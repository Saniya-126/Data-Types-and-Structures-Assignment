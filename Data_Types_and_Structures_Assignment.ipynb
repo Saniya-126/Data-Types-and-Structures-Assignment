{
  "nbformat": 4,
  "nbformat_minor": 0,
  "metadata": {
    "colab": {
      "provenance": []
    },
    "kernelspec": {
      "name": "python3",
      "display_name": "Python 3"
    },
    "language_info": {
      "name": "python"
    }
  },
  "cells": [
    {
      "cell_type": "markdown",
      "source": [
        "1. What are data structures, and why are they important?\n",
        "*  Data Structure is a way of storing data so that it can be accessed and manipulated efficiently. They are important because they improve performance, and help  handling of large datasets in programming.\n",
        "\n",
        "2. Explain the difference between mutable and immutable data types with examples.\n",
        "*  Mutable data types can be changed after their creation, allowing for modifications ; examples: lists and dictionaries. Whereas, immutable data types cannot be altered once created; examples: strings and tuples.\n",
        "\n",
        "3. What are the main differences between lists and tuples in Python?\n",
        "*  Lists are mutable, meaning their elements can be changed or modified after creation, while tuples are immutable, meaning their elements cannot be altered. Additionally, lists use square brackets [], whereas tuples use parentheses ().\n",
        "\n",
        "4. Describe how dictionaries store data.\n",
        "*  Dictionaries store the data in the form of key value pairs. The keys must be immutable types like strings, numbers, or tuples, while the values can be of any data type.\n",
        "\n",
        "5. Why might you use a set instead of a list in Python?\n",
        "*  Set stores unique values whereas lists have duplicate values. So sets can be used in scenarios where we want to store unique values. For example, shopping list in shopping list we wouldn't want to add items multiple times at times like these we use set.\n",
        "\n",
        "6. What is a string in Python, and how is it different from a list?\n",
        "*  A string in Python is a sequence of characters enclosed in single quotes ('), double quotes (\"), or triple quotes (''' or \"\"\"). Strings are immutable, meaning once created, their contents cannot be changed. While a list is a mutable collection that can hold multiple items of any data type, defined using square brackets.\n",
        "\n",
        "7. How do tuples ensure data integrity in Python?\n",
        "*  Tuples ensure data integrity in Python through their immutability, meaning once a tuple is created, its elements cannot be changed, added, or removed. This characteristic prevents modifications, making tuples a reliable choice for storing fixed collections of related data like employee id in a company which should not be changed.\n",
        "\n",
        "8. What is a hash table, and how does it relate to dictionaries in Python?\n",
        "*  A hash table is a way to store data in pairs of keys and values, using a special function to quickly find where each item is located. In Python, dictionaries work like hash tables, allowing you to quickly look up, add, or remove items using their unique keys.\n",
        "\n",
        "9. Can lists contain different data types in Python?\n",
        "*  Yes, lists in Python can contain different data types. A single list can contain integers, strings, floats, other lists.\n",
        "\n",
        "10. Explain why strings are immutable in Python.\n",
        "*   Strings in Python are immutable, meaning they cannot be changed after creation. This prevents accidental modifications so that no harm is done to the data.\n",
        "\n",
        "11. What advantages do dictionaries offer over lists for certain tasks?\n",
        "*   Dictionaries are faster for finding items because you can look them up by unique keys instead of searching through a list. They store data in pairs like a name and a phone number, which helps keep things organized and prevents duplicates.\n",
        "\n",
        "12. Describe a scenario where using a tuple would be preferable over a list.\n",
        "*   A tuple can be used to represent an employee's information, such as Employee ID, Name, Department. It is preferable because it ensures immutability maintaining data integrity. As employee id does not change once registered with the organization.\n",
        "\n",
        "13. How do sets handle duplicate values in Python?\n",
        "*   In Python, sets automatically handle duplicate values by only storing unique elements. When you attempt to add a duplicate value to a set, it simply ignores the addition and maintains the original set without any duplicates.\n",
        "\n",
        "14. How does the “in” keyword work differently for lists and dictionaries?\n",
        "*   n Python, the in keyword checks for the presence of a value in lists and for the presence of a key in dictionaries.\n",
        "\n",
        "15. Can you modify the elements of a tuple? Explain why or why not?\n",
        "*   No, you cannot modify the elements of a tuple in Python because tuples are immutable. This means that once a tuple is created, its elements cannot be changed, added, or removed. This immutability ensures that the data remains constant.\n",
        "\n",
        "16. What is a nested dictionary, and give an example of its use case?\n",
        "*  A nested dictionary is a dictionary that contains other dictionaries as its values.\n",
        "\n",
        "students =\n",
        "    {\n",
        "    \"Ajay\": {\n",
        "        \"Math\": 90,\n",
        "        \"Science\": 85,\n",
        "        \"English\": 88\n",
        "    },\n",
        "    \"Bijay\": {\n",
        "        \"Math\": 75,\n",
        "        \"Science\": 80,\n",
        "        \"English\": 78\n",
        "    }\n",
        "    }\n",
        "  \n",
        "Here, each student's name is a key, and the value is another dictionary containing subjects and their grades\n",
        "\n",
        "17. Describe the time complexity of accessing elements in a dictionary?\n",
        "*  The average time complexity for accessing elements in a Python dictionary is O(1) due to its hash table implementation.\n",
        "\n",
        "18. In what situations are lists preferred over dictionaries?\n",
        "*   Lists are preferred over dictionaries when the order of elements matters and when accessing elements by their index is needed. They are also suitable for simple collections of items without key-value pairs.\n",
        "\n",
        "19. Why are dictionaries considered unordered, and how does that affect data retrieval?\n",
        "*   Dictionaries are considered unordered because they do not maintain the order of elements based on insertion; instead, they use a hash table to store key-value pairs.\n",
        "\n",
        "20. Explain the difference between a list and a dictionary in terms of data retrieval.\n",
        "*  In a list, elements are accessed by their index, which reflects their position in the ordered collection. In a dictionary, elements are accessed by unique keys, allowing for flexible retrieval without regard to order.\n"
      ],
      "metadata": {
        "id": "PrRkisJ1uQuD"
      }
    },
    {
      "cell_type": "code",
      "source": [
        "#Question 1\n",
        "name = \"Saniya\"\n",
        "print(name)"
      ],
      "metadata": {
        "colab": {
          "base_uri": "https://localhost:8080/"
        },
        "id": "hnJg66G4uSrN",
        "outputId": "9102c6bc-6d2f-4835-85b4-0017a113a44b"
      },
      "execution_count": null,
      "outputs": [
        {
          "output_type": "stream",
          "name": "stdout",
          "text": [
            "Saniya\n"
          ]
        }
      ]
    },
    {
      "cell_type": "code",
      "source": [
        "#Question 2\n",
        "text = \"Hello World\"\n",
        "len(text)"
      ],
      "metadata": {
        "colab": {
          "base_uri": "https://localhost:8080/"
        },
        "id": "FhVG-cqkumBi",
        "outputId": "0a4a7292-69b5-40e5-cd2c-72e0cd90408c"
      },
      "execution_count": null,
      "outputs": [
        {
          "output_type": "execute_result",
          "data": {
            "text/plain": [
              "11"
            ]
          },
          "metadata": {},
          "execution_count": 2
        }
      ]
    },
    {
      "cell_type": "code",
      "source": [
        "#Question 3\n",
        "s =  \"Python Programming\"\n",
        "s[3:]"
      ],
      "metadata": {
        "colab": {
          "base_uri": "https://localhost:8080/",
          "height": 35
        },
        "id": "lMy3XBESuync",
        "outputId": "fd1cb7e8-3414-4056-e46c-aad6002a8910"
      },
      "execution_count": null,
      "outputs": [
        {
          "output_type": "execute_result",
          "data": {
            "text/plain": [
              "'hon Programming'"
            ],
            "application/vnd.google.colaboratory.intrinsic+json": {
              "type": "string"
            }
          },
          "metadata": {},
          "execution_count": 3
        }
      ]
    },
    {
      "cell_type": "code",
      "source": [
        "#Question 4\n",
        "string1 = \"hello\"\n",
        "string1.upper()"
      ],
      "metadata": {
        "colab": {
          "base_uri": "https://localhost:8080/",
          "height": 35
        },
        "id": "io2SvWC-vI2g",
        "outputId": "de05ada5-852d-471d-d265-8fe51ae0194e"
      },
      "execution_count": null,
      "outputs": [
        {
          "output_type": "execute_result",
          "data": {
            "text/plain": [
              "'HELLO'"
            ],
            "application/vnd.google.colaboratory.intrinsic+json": {
              "type": "string"
            }
          },
          "metadata": {},
          "execution_count": 4
        }
      ]
    },
    {
      "cell_type": "code",
      "source": [
        "#Question 5\n",
        "string2 = \"I like apple\"\n",
        "string2.replace(\"apple\", \"orange\")"
      ],
      "metadata": {
        "colab": {
          "base_uri": "https://localhost:8080/",
          "height": 35
        },
        "id": "G8huE6zQveyn",
        "outputId": "39da0f26-fd1a-4f04-a60d-5b179f5e9546"
      },
      "execution_count": null,
      "outputs": [
        {
          "output_type": "execute_result",
          "data": {
            "text/plain": [
              "'I like orange'"
            ],
            "application/vnd.google.colaboratory.intrinsic+json": {
              "type": "string"
            }
          },
          "metadata": {},
          "execution_count": 5
        }
      ]
    },
    {
      "cell_type": "code",
      "source": [
        "#Question 6\n",
        "num = list(range(1,6))\n",
        "print(num)"
      ],
      "metadata": {
        "colab": {
          "base_uri": "https://localhost:8080/"
        },
        "id": "HNkfQm1wzOor",
        "outputId": "05ae7fa8-7bb4-478d-cced-2028ef418fdb"
      },
      "execution_count": null,
      "outputs": [
        {
          "output_type": "stream",
          "name": "stdout",
          "text": [
            "[1, 2, 3, 4, 5]\n"
          ]
        }
      ]
    },
    {
      "cell_type": "code",
      "source": [
        "#Question 7\n",
        "numbers = [1, 2, 3, 4]\n",
        "numbers.append(10)\n",
        "print(numbers)"
      ],
      "metadata": {
        "colab": {
          "base_uri": "https://localhost:8080/"
        },
        "id": "mFxvH9RAzd2r",
        "outputId": "d54d9b31-3d31-45c6-d18e-dc4c57f252b9"
      },
      "execution_count": null,
      "outputs": [
        {
          "output_type": "stream",
          "name": "stdout",
          "text": [
            "[1, 2, 3, 4, 10]\n"
          ]
        }
      ]
    },
    {
      "cell_type": "code",
      "source": [
        "#Question 8\n",
        "number =  [1, 2, 3, 4, 5]\n",
        "number.remove(3)\n",
        "print(number)"
      ],
      "metadata": {
        "colab": {
          "base_uri": "https://localhost:8080/"
        },
        "id": "F_wP0Bicz7tq",
        "outputId": "0438174c-04a9-4753-b256-440f2ba829ec"
      },
      "execution_count": null,
      "outputs": [
        {
          "output_type": "stream",
          "name": "stdout",
          "text": [
            "[1, 2, 4, 5]\n"
          ]
        }
      ]
    },
    {
      "cell_type": "code",
      "source": [
        "#Question 9\n",
        "code =  ['a', 'b', 'c', 'd']\n",
        "code[1]"
      ],
      "metadata": {
        "colab": {
          "base_uri": "https://localhost:8080/",
          "height": 35
        },
        "id": "g8hslNDa0MUE",
        "outputId": "6fe438f1-6421-49cb-ae08-aeec0f717ae2"
      },
      "execution_count": null,
      "outputs": [
        {
          "output_type": "execute_result",
          "data": {
            "text/plain": [
              "'b'"
            ],
            "application/vnd.google.colaboratory.intrinsic+json": {
              "type": "string"
            }
          },
          "metadata": {},
          "execution_count": 5
        }
      ]
    },
    {
      "cell_type": "code",
      "source": [
        "#Question 10\n",
        "num = [10, 20, 30, 40, 50]\n",
        "num[::-1]\n"
      ],
      "metadata": {
        "colab": {
          "base_uri": "https://localhost:8080/"
        },
        "id": "ZCGDMhsS0dAE",
        "outputId": "ae943475-fc89-4be4-d4b1-33d5842e3f9b"
      },
      "execution_count": null,
      "outputs": [
        {
          "output_type": "execute_result",
          "data": {
            "text/plain": [
              "[50, 40, 30, 20, 10]"
            ]
          },
          "metadata": {},
          "execution_count": 6
        }
      ]
    },
    {
      "cell_type": "code",
      "source": [
        "#Question 11\n",
        "num = (10, 20, 30)\n",
        "print(num)"
      ],
      "metadata": {
        "colab": {
          "base_uri": "https://localhost:8080/"
        },
        "id": "WU5v4cW1okLn",
        "outputId": "38d03e87-3ed1-468e-f16f-2c87ab798229"
      },
      "execution_count": 1,
      "outputs": [
        {
          "output_type": "stream",
          "name": "stdout",
          "text": [
            "(10, 20, 30)\n"
          ]
        }
      ]
    },
    {
      "cell_type": "code",
      "source": [
        "#Question 12\n",
        "fruits =  ('apple', 'banana', 'cherry')\n",
        "fruits[0]"
      ],
      "metadata": {
        "colab": {
          "base_uri": "https://localhost:8080/",
          "height": 35
        },
        "id": "cObA90k2o5qr",
        "outputId": "429797dd-5659-4da4-da9e-30a819cc3cc2"
      },
      "execution_count": 2,
      "outputs": [
        {
          "output_type": "execute_result",
          "data": {
            "text/plain": [
              "'apple'"
            ],
            "application/vnd.google.colaboratory.intrinsic+json": {
              "type": "string"
            }
          },
          "metadata": {},
          "execution_count": 2
        }
      ]
    },
    {
      "cell_type": "code",
      "source": [
        "#Question 13\n",
        "num = (1, 2, 3, 2, 4, 2)\n",
        "num.count(2)"
      ],
      "metadata": {
        "colab": {
          "base_uri": "https://localhost:8080/"
        },
        "id": "ydA44oOYpXv3",
        "outputId": "47525960-ea91-4416-d7ad-6624674bd006"
      },
      "execution_count": 3,
      "outputs": [
        {
          "output_type": "execute_result",
          "data": {
            "text/plain": [
              "3"
            ]
          },
          "metadata": {},
          "execution_count": 3
        }
      ]
    },
    {
      "cell_type": "code",
      "source": [
        "#Question 14\n",
        "animals = ('dog', 'cat', 'rabbit')\n",
        "animals.index('cat')"
      ],
      "metadata": {
        "colab": {
          "base_uri": "https://localhost:8080/"
        },
        "id": "wNQ24DZhpo0c",
        "outputId": "adb1a6eb-eb61-4f10-8815-7211509a3169"
      },
      "execution_count": 4,
      "outputs": [
        {
          "output_type": "execute_result",
          "data": {
            "text/plain": [
              "1"
            ]
          },
          "metadata": {},
          "execution_count": 4
        }
      ]
    },
    {
      "cell_type": "code",
      "source": [
        "#Question 15\n",
        "fruits = ('apple', 'orange', 'banana')\n",
        "if 'banana' in fruits :\n",
        "  print(\"Yes banana is in the tuple\")\n",
        "else :\n",
        "  print(\"No banana is not in the tuple\")"
      ],
      "metadata": {
        "colab": {
          "base_uri": "https://localhost:8080/"
        },
        "id": "plkrgugUp5Qr",
        "outputId": "92980c48-172e-4b74-f37c-69be53d045b9"
      },
      "execution_count": 6,
      "outputs": [
        {
          "output_type": "stream",
          "name": "stdout",
          "text": [
            "Yes banana is in the tuple\n"
          ]
        }
      ]
    },
    {
      "cell_type": "code",
      "source": [
        "#Question 16\n",
        "num = {1, 2, 3, 4, 5}\n",
        "print(num)"
      ],
      "metadata": {
        "colab": {
          "base_uri": "https://localhost:8080/"
        },
        "id": "G3Cs1zIvqyHF",
        "outputId": "46a2dc74-5192-4120-f3bb-bd5bb6b84b0e"
      },
      "execution_count": 8,
      "outputs": [
        {
          "output_type": "stream",
          "name": "stdout",
          "text": [
            "{1, 2, 3, 4, 5}\n"
          ]
        }
      ]
    },
    {
      "cell_type": "code",
      "source": [
        "#Question 17\n",
        "num = {1, 2, 3, 4}\n",
        "num.add(6)\n",
        "print(num)"
      ],
      "metadata": {
        "colab": {
          "base_uri": "https://localhost:8080/"
        },
        "id": "kg8WHGLzq3lT",
        "outputId": "e750b43f-fe58-4bd3-fdb4-65b87527e8be"
      },
      "execution_count": 10,
      "outputs": [
        {
          "output_type": "stream",
          "name": "stdout",
          "text": [
            "{1, 2, 3, 4, 6}\n"
          ]
        }
      ]
    },
    {
      "cell_type": "code",
      "source": [
        "#Question 18\n",
        "num = (10, 20, 30)\n",
        "print(num)"
      ],
      "metadata": {
        "colab": {
          "base_uri": "https://localhost:8080/"
        },
        "id": "m0r2WQbtrdV1",
        "outputId": "11af89f3-8691-4db9-da04-2a3d66402428"
      },
      "execution_count": 11,
      "outputs": [
        {
          "output_type": "stream",
          "name": "stdout",
          "text": [
            "(10, 20, 30)\n"
          ]
        }
      ]
    },
    {
      "cell_type": "code",
      "source": [
        "#Question 19\n",
        "fruits =  ('apple', 'banana', 'cherry')\n",
        "fruits[0]"
      ],
      "metadata": {
        "colab": {
          "base_uri": "https://localhost:8080/",
          "height": 35
        },
        "id": "1JPrT5j7ymWE",
        "outputId": "9bb1fb16-cfaa-4d8e-d0b6-c3de00b0a97b"
      },
      "execution_count": 12,
      "outputs": [
        {
          "output_type": "execute_result",
          "data": {
            "text/plain": [
              "'apple'"
            ],
            "application/vnd.google.colaboratory.intrinsic+json": {
              "type": "string"
            }
          },
          "metadata": {},
          "execution_count": 12
        }
      ]
    },
    {
      "cell_type": "code",
      "source": [
        "#Question 20\n",
        "num = (1, 2, 3, 2, 4, 2)\n",
        "num.count(2)"
      ],
      "metadata": {
        "colab": {
          "base_uri": "https://localhost:8080/"
        },
        "id": "Kg7I2Cf7yv4_",
        "outputId": "6ea0f52e-248f-4f82-c40f-a3d72cc22a09"
      },
      "execution_count": 13,
      "outputs": [
        {
          "output_type": "execute_result",
          "data": {
            "text/plain": [
              "3"
            ]
          },
          "metadata": {},
          "execution_count": 13
        }
      ]
    },
    {
      "cell_type": "code",
      "source": [
        "#Question 21\n",
        "animals = ('dog', 'cat', 'rabbit')\n",
        "animals.index('cat')"
      ],
      "metadata": {
        "colab": {
          "base_uri": "https://localhost:8080/"
        },
        "id": "kOKQRb99y20A",
        "outputId": "8a22eebb-66ef-4d2d-fc91-50372260d926"
      },
      "execution_count": 14,
      "outputs": [
        {
          "output_type": "execute_result",
          "data": {
            "text/plain": [
              "1"
            ]
          },
          "metadata": {},
          "execution_count": 14
        }
      ]
    },
    {
      "cell_type": "code",
      "source": [
        "#Question 22\n",
        "fruits = ('apple', 'orange', 'banana')\n",
        "if 'banana' in fruits :\n",
        "  print(\"Yes banana is in the tuple\")\n",
        "else :\n",
        "  print(\"No banana is not in the tuple\")"
      ],
      "metadata": {
        "colab": {
          "base_uri": "https://localhost:8080/"
        },
        "id": "_lsaX1FZy8qU",
        "outputId": "c82ac00c-9f6c-4076-c462-bcbee5698c30"
      },
      "execution_count": 15,
      "outputs": [
        {
          "output_type": "stream",
          "name": "stdout",
          "text": [
            "Yes banana is in the tuple\n"
          ]
        }
      ]
    },
    {
      "cell_type": "code",
      "source": [
        "#Question 23\n",
        "num = {1, 2, 3, 4, 5}\n",
        "print(num)"
      ],
      "metadata": {
        "colab": {
          "base_uri": "https://localhost:8080/"
        },
        "id": "r6fbiszJy-5L",
        "outputId": "bcc6be52-b30c-46a6-d767-e5fd68c35195"
      },
      "execution_count": 16,
      "outputs": [
        {
          "output_type": "stream",
          "name": "stdout",
          "text": [
            "{1, 2, 3, 4, 5}\n"
          ]
        }
      ]
    },
    {
      "cell_type": "code",
      "source": [
        "#Question 24\n",
        "num = {1, 2, 3, 4}\n",
        "num.add(6)\n",
        "print(num)"
      ],
      "metadata": {
        "colab": {
          "base_uri": "https://localhost:8080/"
        },
        "id": "f0iYC5ymzFY9",
        "outputId": "69efef19-8850-4f8e-e587-3404cd176303"
      },
      "execution_count": 17,
      "outputs": [
        {
          "output_type": "stream",
          "name": "stdout",
          "text": [
            "{1, 2, 3, 4, 6}\n"
          ]
        }
      ]
    }
  ]
}